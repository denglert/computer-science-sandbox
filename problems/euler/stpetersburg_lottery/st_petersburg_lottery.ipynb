{
 "cells": [
  {
   "cell_type": "markdown",
   "metadata": {},
   "source": [
    "# St Petersburg Lottery"
   ]
  },
  {
   "cell_type": "markdown",
   "metadata": {},
   "source": [
    "## Description\n",
    "\n",
    "A gambler decides to participate in a special lottery. In this lottery the \n",
    "gambler plays a series of one or more games.  Each game costs $m$ pounds to play\n",
    "and starts with an initial pot of 1 pound. The gambler flips an unbiased coin.\n",
    "Every time a head appears, the pot is doubled and the gambler continues. When a\n",
    "tail appears, the game ends and the gambler collects the current value of the \n",
    "pot. The gambler is certain to win at least 1 pound, the starting value of the \n",
    "pot, at the cost of $m$ pounds, the initial fee.\n",
    "\n",
    "The gambler cannot continue to play if his fortune falls below $m$ pounds. Let \n",
    "$p_{m}(s)$ denote the probability that the gambler will never run out of money in\n",
    "this lottery given his initial fortune $s$ and the cost per game $m$.  For example\n",
    "$p_{2}(2) ≈ 0.2522$, $p_{2}(5) ≈ 0.6873$ and $p_{6}(10 000) ≈ 0.9952$ (note: $p_{m}(s) = 0$ for $s < m$).\n",
    "\n",
    "Find $p_{15}(10^{9})$ and give your answer rounded to 7 decimal places behind the \n",
    "decimal point in the form 0.abcdefg."
   ]
  },
  {
   "cell_type": "markdown",
   "metadata": {},
   "source": [
    "## Distilled version\n",
    "\n",
    "- Initial fortune of the gambler: $s$\n",
    "- Cost to play the game: $m$\n",
    "- Initial pot: $1$\n",
    "\n",
    "\n",
    "- $p_{m}(s)$: denotes the probability that the gambler will never run out of money given his initial fortune $s$ and the cost per game $m$"
   ]
  },
  {
   "cell_type": "code",
   "execution_count": 204,
   "metadata": {
    "collapsed": true
   },
   "outputs": [],
   "source": [
    "import numpy as np\n",
    "import scipy.stats\n",
    "import matplotlib.pyplot as plt\n",
    "%matplotlib inline"
   ]
  },
  {
   "cell_type": "code",
   "execution_count": 205,
   "metadata": {
    "collapsed": true
   },
   "outputs": [],
   "source": [
    "def coin_toss(p_head=0.5):\n",
    "    coin = scipy.stats.bernoulli.rvs(p_head)\n",
    "    return coin"
   ]
  },
  {
   "cell_type": "code",
   "execution_count": 372,
   "metadata": {
    "collapsed": true
   },
   "outputs": [],
   "source": [
    "class Game:\n",
    "    \n",
    "    def __init__(self, initial_wealth, cost_of_game):\n",
    "        \n",
    "        self.initial_wealth = initial_wealth\n",
    "        self.cost_of_game = cost_of_game\n",
    "        self.pot = 1\n",
    "        #self.wealth = self.initial_wealth\n",
    "        self.wealth = self.initial_wealth - self.cost_of_game + self.pot\n",
    "        self.tosses = 0\n",
    "        \n",
    "        self.coin_history = []\n",
    "        self.wealth_history = []\n",
    "        \n",
    "        self.coin_history.append(-1)\n",
    "        self.wealth_history.append(self.wealth)\n",
    "        \n",
    "        self.losses = 0\n",
    "    \n",
    "    def play_till_default(self, limit):\n",
    "        while game.update_state() and game.tosses < limit:\n",
    "            #game.print_current_state()\n",
    "            pass\n",
    "        \n",
    "        # \n",
    "    #def coin_history\n",
    "        \n",
    "    def reset(self):\n",
    "        self.__init__(self.initial_wealth, self.cost_of_game)\n",
    "        \n",
    "    def update_state(self):\n",
    "        \n",
    "        coin = coin_toss()\n",
    "        self.tosses += 1\n",
    "    \n",
    "        if coin == 1:\n",
    "            self.wealth = self.wealth + self.pot\n",
    "            self.pot = self.pot*2.0\n",
    "        else:\n",
    "            self.losses += 1\n",
    "            self.pot = 1\n",
    "            self.wealth = self.wealth - self.cost_of_game + self.pot\n",
    "            \n",
    "        self.coin_history.append(coin)\n",
    "        self.wealth_history.append(self.wealth)\n",
    "        \n",
    "        if self.wealth <= 0:\n",
    "            print('Bankruptcy')\n",
    "            return False\n",
    "        \n",
    "        return True\n",
    "    \n",
    "    def plot_path(self):\n",
    "        \n",
    "        f,a = plt.subplots()\n",
    "        a.barv(self.wealth_history)\n",
    "        return f,a\n",
    "            \n",
    "    def print_current_state(self):\n",
    "        \n",
    "        print(\"-------------------\")\n",
    "        print(\"Current wealth: {}\".format(self.wealth))\n",
    "        print(\"Current pot:    {}\".format(self.pot))\n",
    "        print(\"Losses so far:  {}\".format(self.losses))\n",
    "        "
   ]
  },
  {
   "cell_type": "code",
   "execution_count": 373,
   "metadata": {
    "collapsed": true
   },
   "outputs": [],
   "source": [
    "initial_wealth = 5.0\n",
    "cost_of_game = 2.0"
   ]
  },
  {
   "cell_type": "code",
   "execution_count": 374,
   "metadata": {},
   "outputs": [],
   "source": [
    "game = Game(initial_wealth, cost_of_game)"
   ]
  },
  {
   "cell_type": "code",
   "execution_count": 375,
   "metadata": {},
   "outputs": [],
   "source": [
    "game.play_till_default(10)"
   ]
  },
  {
   "cell_type": "code",
   "execution_count": 376,
   "metadata": {},
   "outputs": [
    {
     "data": {
      "text/plain": [
       "[4.0, 5.0, 4.0, 3.0, 4.0, 6.0, 5.0, 6.0, 5.0, 6.0, 5.0]"
      ]
     },
     "execution_count": 376,
     "metadata": {},
     "output_type": "execute_result"
    }
   ],
   "source": [
    "game.wealth_history"
   ]
  },
  {
   "cell_type": "code",
   "execution_count": 377,
   "metadata": {
    "collapsed": true
   },
   "outputs": [],
   "source": [
    "wealth_history = game.wealth_history\n",
    "coin_history   = game.coin_history"
   ]
  },
  {
   "cell_type": "code",
   "execution_count": 378,
   "metadata": {},
   "outputs": [
    {
     "data": {
      "text/plain": [
       "[-1, 1, 0, 0, 1, 1, 0, 1, 0, 1, 0]"
      ]
     },
     "execution_count": 378,
     "metadata": {},
     "output_type": "execute_result"
    }
   ],
   "source": [
    "coin_history"
   ]
  },
  {
   "cell_type": "code",
   "execution_count": 379,
   "metadata": {},
   "outputs": [
    {
     "data": {
      "image/png": "[encoded data removed]",
      "text/plain": [
       "<matplotlib.figure.Figure at 0x7f495aaec128>"
      ]
     },
     "metadata": {},
     "output_type": "display_data"
    }
   ],
   "source": [
    "f,axes = plt.subplots(nrows=1, figsize=(6,9))\n",
    "#a = axes.ravel()\n",
    "a = axes\n",
    "nSteps = len(game.wealth_history)\n",
    "steps = np.array(range(nSteps))\n",
    "steps = steps + 0.5\n",
    "x_ticks = [i+0.5 for i in range(nSteps)]\n",
    "x_ticklabels = list(range(nSteps))\n",
    "y_ticks = np.array(range(int(np.max(wealth_history))))+2.0\n",
    "#y_ticklabels = list(range(nSteps))\n",
    "a.scatter(steps, wealth_history, marker='_', s=1000, c='k')\n",
    "for coin, step, wealth in zip(coin_history,steps,wealth_history):\n",
    "    a.annotate(wealth, (step,wealth), horizontalalignment='center', verticalalignment='bottom')\n",
    "    a.annotate(coin, (step,wealth), horizontalalignment='center', verticalalignment='top')\n",
    "a.set_xticks(x_ticks)\n",
    "a.set_xticklabels(x_ticklabels);\n",
    "a.set_yticks(y_ticks);\n",
    "\n",
    "#a[1].set_xticks(x_ticks)\n",
    "#a[1].set_xticklabels(x_ticklabels);\n",
    "#a[1].bar(steps, coin_history)"
   ]
  },
  {
   "cell_type": "code",
   "execution_count": 309,
   "metadata": {},
   "outputs": [
    {
     "name": "stdout",
     "output_type": "stream",
     "text": [
      "-------------------\n",
      "Current wealth: 3.0\n",
      "Current pot:    1\n",
      "Losses so far:  6\n"
     ]
    }
   ],
   "source": [
    "game.print_current_state()"
   ]
  },
  {
   "cell_type": "code",
   "execution_count": 80,
   "metadata": {},
   "outputs": [],
   "source": [
    "game.update_state()"
   ]
  },
  {
   "cell_type": "code",
   "execution_count": 81,
   "metadata": {},
   "outputs": [
    {
     "name": "stdout",
     "output_type": "stream",
     "text": [
      "Current wealth: 5\n",
      "Current pot:    2.0\n",
      "Losses so far:  0\n"
     ]
    }
   ],
   "source": [
    "game.print_current_state()"
   ]
  },
  {
   "cell_type": "code",
   "execution_count": 73,
   "metadata": {
    "collapsed": true
   },
   "outputs": [],
   "source": [
    "game.reset()"
   ]
  },
  {
   "cell_type": "code",
   "execution_count": 74,
   "metadata": {},
   "outputs": [
    {
     "name": "stdout",
     "output_type": "stream",
     "text": [
      "Current wealth: 4\n",
      "Current pot:    1\n",
      "Losses so far:  0\n"
     ]
    }
   ],
   "source": [
    "game.print_current_state()"
   ]
  },
  {
   "cell_type": "code",
   "execution_count": 12,
   "metadata": {
    "collapsed": true
   },
   "outputs": [],
   "source": [
    "coin_tosses = [coin_toss() for i in range(100)]"
   ]
  },
  {
   "cell_type": "code",
   "execution_count": 13,
   "metadata": {},
   "outputs": [
    {
     "data": {
      "text/plain": [
       "(array([49.,  0.,  0.,  0.,  0.,  0.,  0.,  0.,  0., 51.]),\n",
       " array([0. , 0.1, 0.2, 0.3, 0.4, 0.5, 0.6, 0.7, 0.8, 0.9, 1. ]),\n",
       " <a list of 10 Patch objects>)"
      ]
     },
     "execution_count": 13,
     "metadata": {},
     "output_type": "execute_result"
    },
    {
     "data": {
      "image/png": "[encoded data removed]",
      "text/plain": [
       "<matplotlib.figure.Figure at 0x7f495daebf98>"
      ]
     },
     "metadata": {},
     "output_type": "display_data"
    }
   ],
   "source": [
    "f,a = plt.subplots()\n",
    "a.hist(coin_tosses)"
   ]
  },
  {
   "cell_type": "code",
   "execution_count": 383,
   "metadata": {},
   "outputs": [
    {
     "data": {
      "text/plain": [
       "array([[0.99, 0.8 ],\n",
       "       [0.01, 0.2 ]])"
      ]
     },
     "execution_count": 383,
     "metadata": {},
     "output_type": "execute_result"
    }
   ],
   "source": [
    "A = np.array([[0.99, 0.8], [0.01, 0.2]])\n",
    "A"
   ]
  },
  {
   "cell_type": "code",
   "execution_count": 386,
   "metadata": {},
   "outputs": [
    {
     "data": {
      "text/plain": [
       "array([[1],\n",
       "       [0]])"
      ]
     },
     "execution_count": 386,
     "metadata": {},
     "output_type": "execute_result"
    }
   ],
   "source": [
    "v = np.array([[1], [0]])\n",
    "v"
   ]
  },
  {
   "cell_type": "code",
   "execution_count": 390,
   "metadata": {},
   "outputs": [
    {
     "data": {
      "text/plain": [
       "array([[0.98765432, 0.98765432],\n",
       "       [0.01234568, 0.01234568]])"
      ]
     },
     "execution_count": 390,
     "metadata": {},
     "output_type": "execute_result"
    }
   ],
   "source": [
    "np.linalg.matrix_power(A, 1000)"
   ]
  },
  {
   "cell_type": "code",
   "execution_count": 388,
   "metadata": {},
   "outputs": [
    {
     "data": {
      "text/plain": [
       "array([[3.66032341e-001],\n",
       "       [1.00000000e-200]])"
      ]
     },
     "execution_count": 388,
     "metadata": {},
     "output_type": "execute_result"
    }
   ],
   "source": [
    "np.linalg.matrix_power(A**100).dot(v)"
   ]
  },
  {
   "cell_type": "code",
   "execution_count": 384,
   "metadata": {},
   "outputs": [
    {
     "data": {
      "text/plain": [
       "(array([1.  , 0.19]), array([[ 0.99992188, -0.70710678],\n",
       "        [ 0.01249902,  0.70710678]]))"
      ]
     },
     "execution_count": 384,
     "metadata": {},
     "output_type": "execute_result"
    }
   ],
   "source": [
    "= np.linalg.eig(A)"
   ]
  },
  {
   "cell_type": "code",
   "execution_count": null,
   "metadata": {
    "collapsed": true
   },
   "outputs": [],
   "source": []
  }
 ],
 "metadata": {
  "kernelspec": {
   "display_name": "Python 3",
   "language": "python",
   "name": "python3"
  },
  "language_info": {
   "codemirror_mode": {
    "name": "ipython",
    "version": 3
   },
   "file_extension": ".py",
   "mimetype": "text/x-python",
   "name": "python",
   "nbconvert_exporter": "python",
   "pygments_lexer": "ipython3",
   "version": "3.6.2"
  }
 },
 "nbformat": 4,
 "nbformat_minor": 2
}
