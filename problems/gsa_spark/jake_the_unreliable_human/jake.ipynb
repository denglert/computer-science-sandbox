{
 "cells": [
  {
   "cell_type": "markdown",
   "metadata": {},
   "source": [
    "# Jake the Unreliable Human"
   ]
  },
  {
   "cell_type": "markdown",
   "metadata": {},
   "source": [
    "Jake The Unreliable Human doesn’t tell the truth 3/4 of the time.\n",
    "\n",
    "Jake The Unreliable Human rolls a fair six sided die that only Jake The Unreliable Human can see and tells you the value on the die. If Jake The\n",
    "Unreliable Human chooses to not tell the truth, Jake The Unreliable Human will always pick 6 - unless Jake The Unreliable Human rolls a 6, in which\n",
    "case Jake The Unreliable Human will pick a different number with uniform probability.\n",
    "\n",
    "Given that Jake The Unreliable Human tells you that he has a 6, what is the probability that Jake The Unreliable Human actually has a 6?\n",
    "\n",
    "When calculating your answer, you do not need to consider the probability of typical human errors such as misreading the numbers on the die or being\n",
    "distracted by a doughnut vendor and dropping the die through a drain cover.\n",
    "\n",
    "Please give your answer in the form a/b where a and b are integers and the fraction a/b is in its most simplified form."
   ]
  },
  {
   "cell_type": "code",
   "execution_count": 1,
   "metadata": {
    "collapsed": true
   },
   "outputs": [],
   "source": [
    "import numpy as np\n",
    "import matplotlib.pyplot as plt\n",
    "from scipy.stats import randint\n",
    "from scipy.stats import uniform\n",
    "%matplotlib inline"
   ]
  },
  {
   "cell_type": "code",
   "execution_count": 2,
   "metadata": {
    "collapsed": true
   },
   "outputs": [],
   "source": [
    "def generate_ensemble(throws):\n",
    "    ensemble = randint.rvs(1, 7, size=throws)\n",
    "    return ensemble"
   ]
  },
  {
   "cell_type": "code",
   "execution_count": 3,
   "metadata": {
    "collapsed": true
   },
   "outputs": [],
   "source": [
    "ensemble = generate_ensemble(1000000)"
   ]
  },
  {
   "cell_type": "code",
   "execution_count": 4,
   "metadata": {},
   "outputs": [
    {
     "data": {
      "image/png": "[encoded data removed]",
      "text/plain": [
       "<matplotlib.figure.Figure at 0x7fa3fa29dac8>"
      ]
     },
     "metadata": {},
     "output_type": "display_data"
    }
   ],
   "source": [
    "f,a = plt.subplots();\n",
    "a.hist(ensemble, bins=6, range=(0.5,6.5), align='mid', edgecolor='k');\n",
    "a.set_xlim(0, 7);"
   ]
  },
  {
   "cell_type": "code",
   "execution_count": 5,
   "metadata": {
    "collapsed": true
   },
   "outputs": [],
   "source": [
    "def truth_or_lie():\n",
    "    r = uniform.rvs(size=1)\n",
    "    if r < 0.75:\n",
    "        return False\n",
    "    if r >= 0.75:\n",
    "        return True"
   ]
  },
  {
   "cell_type": "code",
   "execution_count": 6,
   "metadata": {
    "collapsed": true
   },
   "outputs": [],
   "source": [
    "def truth_or_lie_vec(n):\n",
    "    return [truth_or_lie() for i in range(n)]"
   ]
  },
  {
   "cell_type": "code",
   "execution_count": 7,
   "metadata": {
    "collapsed": true
   },
   "outputs": [],
   "source": [
    "isTrue = truth_or_lie_vec(10000)"
   ]
  },
  {
   "cell_type": "code",
   "execution_count": 8,
   "metadata": {},
   "outputs": [
    {
     "data": {
      "text/plain": [
       "(array([ 7489.,     0.,     0.,     0.,     0.,     0.,     0.,     0.,\n",
       "            0.,  2511.]),\n",
       " array([ 0. ,  0.1,  0.2,  0.3,  0.4,  0.5,  0.6,  0.7,  0.8,  0.9,  1. ]),\n",
       " <a list of 10 Patch objects>)"
      ]
     },
     "execution_count": 8,
     "metadata": {},
     "output_type": "execute_result"
    },
    {
     "data": {
      "image/png": "[encoded data removed]",
      "text/plain": [
       "<matplotlib.figure.Figure at 0x7fa3f7d09898>"
      ]
     },
     "metadata": {},
     "output_type": "display_data"
    }
   ],
   "source": [
    "f,a = plt.subplots()\n",
    "a.hist(isTrue)"
   ]
  },
  {
   "cell_type": "code",
   "execution_count": 9,
   "metadata": {
    "collapsed": true
   },
   "outputs": [],
   "source": [
    "def jakesays(dice_val):\n",
    "    tellTruth = truth_or_lie()\n",
    "    if tellTruth:\n",
    "        return dice_val\n",
    "    else:\n",
    "        if dice_val < 5.5:\n",
    "            return 6\n",
    "        else:\n",
    "            return randint.rvs(1, 6, size=1)"
   ]
  },
  {
   "cell_type": "code",
   "execution_count": 10,
   "metadata": {
    "collapsed": true
   },
   "outputs": [],
   "source": [
    "jakesays_vec = np.vectorize(jakesays)"
   ]
  },
  {
   "cell_type": "code",
   "execution_count": 11,
   "metadata": {
    "collapsed": true
   },
   "outputs": [],
   "source": [
    "jake = jakesays_vec(ensemble)"
   ]
  },
  {
   "cell_type": "code",
   "execution_count": 12,
   "metadata": {
    "collapsed": true
   },
   "outputs": [],
   "source": [
    "throws_and_jake = [i for i in zip(ensemble,jake)]"
   ]
  },
  {
   "cell_type": "code",
   "execution_count": 13,
   "metadata": {},
   "outputs": [
    {
     "name": "stdout",
     "output_type": "stream",
     "text": [
      "666809\n",
      "41681\n",
      "0.06250815450901233\n"
     ]
    }
   ],
   "source": [
    "ncount_jake_six = 0\n",
    "ncount_jake_six_and_true = 0\n",
    "for throw, jake in throws_and_jake:\n",
    "    if jake == 6:\n",
    "        ncount_jake_six += 1\n",
    "        if throw == 6:\n",
    "            ncount_jake_six_and_true += 1\n",
    "print(ncount_jake_six)\n",
    "print(ncount_jake_six_and_true)\n",
    "print(ncount_jake_six_and_true/ncount_jake_six)"
   ]
  },
  {
   "cell_type": "markdown",
   "metadata": {},
   "source": [
    "Precise answer should be 1/16:"
   ]
  },
  {
   "cell_type": "code",
   "execution_count": 14,
   "metadata": {},
   "outputs": [
    {
     "data": {
      "text/plain": [
       "0.0625"
      ]
     },
     "execution_count": 14,
     "metadata": {},
     "output_type": "execute_result"
    }
   ],
   "source": [
    "1.0/16"
   ]
  }
 ],
 "metadata": {
  "kernelspec": {
   "display_name": "Python 3",
   "language": "python",
   "name": "python3"
  },
  "language_info": {
   "codemirror_mode": {
    "name": "ipython",
    "version": 3
   },
   "file_extension": ".py",
   "mimetype": "text/x-python",
   "name": "python",
   "nbconvert_exporter": "python",
   "pygments_lexer": "ipython3",
   "version": "3.6.2"
  }
 },
 "nbformat": 4,
 "nbformat_minor": 2
}
